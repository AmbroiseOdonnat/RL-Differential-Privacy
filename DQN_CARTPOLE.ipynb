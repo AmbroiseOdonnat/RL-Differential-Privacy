{
  "cells": [
    {
      "cell_type": "markdown",
      "metadata": {
        "id": "O-o9lHV2l3wt"
      },
      "source": [
        "# Local Differential Privacy and Reinforcement Learning\n",
        "\n",
        "## DQN algorithm on CartPole\n",
        "\n",
        "Code adapted from [this notebook](https://github.com/bentrevett/pytorch-rl/blob/master/dqn_working.ipynb).\n",
        "\n",
        "In this notebook we solve the Cartpole game using the DQN algorithm coupled with a MLP.\n",
        "\n",
        "In the first part we train the network without DP, and in a second part we will manually add noise to the gradients."
      ]
    },
    {
      "cell_type": "markdown",
      "metadata": {
        "id": "8f4utD3GQELU"
      },
      "source": [
        "## Import"
      ]
    },
    {
      "cell_type": "code",
      "execution_count": null,
      "metadata": {
        "colab": {
          "base_uri": "https://localhost:8080/"
        },
        "id": "AiX32RaQseBH",
        "outputId": "2c5372d9-7095-426c-ef65-ddf7e8d9f7d6"
      },
      "outputs": [
        {
          "name": "stdout",
          "output_type": "stream",
          "text": [
            "Looking in indexes: https://pypi.org/simple, https://us-python.pkg.dev/colab-wheels/public/simple/\n",
            "Requirement already satisfied: gym[classic_control] in /usr/local/lib/python3.8/dist-packages (0.25.2)\n",
            "Requirement already satisfied: cloudpickle>=1.2.0 in /usr/local/lib/python3.8/dist-packages (from gym[classic_control]) (1.5.0)\n",
            "Requirement already satisfied: gym-notices>=0.0.4 in /usr/local/lib/python3.8/dist-packages (from gym[classic_control]) (0.0.8)\n",
            "Requirement already satisfied: importlib-metadata>=4.8.0 in /usr/local/lib/python3.8/dist-packages (from gym[classic_control]) (4.13.0)\n",
            "Requirement already satisfied: numpy>=1.18.0 in /usr/local/lib/python3.8/dist-packages (from gym[classic_control]) (1.21.6)\n",
            "Collecting pygame==2.1.0\n",
            "  Downloading pygame-2.1.0-cp38-cp38-manylinux_2_17_x86_64.manylinux2014_x86_64.whl (18.3 MB)\n",
            "\u001b[K     |████████████████████████████████| 18.3 MB 108 kB/s \n",
            "\u001b[?25hRequirement already satisfied: zipp>=0.5 in /usr/local/lib/python3.8/dist-packages (from importlib-metadata>=4.8.0->gym[classic_control]) (3.11.0)\n",
            "Installing collected packages: pygame\n",
            "Successfully installed pygame-2.1.0\n"
          ]
        }
      ],
      "source": [
        "%matplotlib inline\n",
        "!pip3 install gym[classic_control]"
      ]
    },
    {
      "cell_type": "code",
      "execution_count": null,
      "metadata": {
        "id": "BVTY3VCKQGo5"
      },
      "outputs": [],
      "source": [
        "import gym\n",
        "import math\n",
        "import random\n",
        "import numpy as np\n",
        "import matplotlib\n",
        "import matplotlib.pyplot as plt\n",
        "from collections import namedtuple, deque\n",
        "from itertools import count\n",
        "\n",
        "import torch\n",
        "import torch.nn as nn\n",
        "import torch.optim as optim\n",
        "import torch.nn.functional as F"
      ]
    },
    {
      "cell_type": "markdown",
      "metadata": {
        "id": "g3roEkVtMsvA"
      },
      "source": [
        "# **Classic DQN Training**"
      ]
    },
    {
      "cell_type": "markdown",
      "metadata": {
        "id": "3-leBpGSRa3A"
      },
      "source": [
        "## Initialize environments"
      ]
    },
    {
      "cell_type": "code",
      "execution_count": null,
      "metadata": {
        "id": "CPc1VtqiRcH1"
      },
      "outputs": [],
      "source": [
        "device = torch.device('cuda' if torch.cuda.is_available() else 'cpu')\n",
        "train_env = gym.make('CartPole-v1', new_step_api=True)\n",
        "test_env = gym.make('CartPole-v1', new_step_api=True)\n",
        "if gym.__version__[:4] == '0.26':\n",
        "    train_env = gym.make('CartPole-v1')\n",
        "    test_env = gym.make('CartPole-v1')\n",
        "elif gym.__version__[:4] == '0.25':\n",
        "    train_env = gym.make('CartPole-v1', new_step_api=True)\n",
        "    test_env = gym.make('CartPole-v1', new_step_api=True)\n",
        "else:\n",
        "    raise ImportError(f\"Requires gym v25 or v26, actual version: {gym.__version__}\")"
      ]
    },
    {
      "cell_type": "markdown",
      "metadata": {
        "id": "35B147rPRt1E"
      },
      "source": [
        "### Seed"
      ]
    },
    {
      "cell_type": "code",
      "execution_count": null,
      "metadata": {
        "id": "t4DDdCFvRwSf"
      },
      "outputs": [],
      "source": [
        "SEED = 42\n",
        "train_env.reset(seed=SEED)\n",
        "test_env.reset(seed=SEED+1)\n",
        "np.random.seed(SEED)\n",
        "torch.manual_seed(SEED);"
      ]
    },
    {
      "cell_type": "markdown",
      "metadata": {
        "id": "wCWqYdAXr4Mm"
      },
      "source": [
        "## Replay Memory\n",
        "\n",
        "We'll be using experience replay memory for training our DQN. It stores\n",
        "the transitions that the agent observes, allowing us to reuse this data\n",
        "later. By sampling from it randomly, the transitions that build up a\n",
        "batch are decorrelated. It has been shown that this greatly stabilizes\n",
        "and improves the DQN training procedure.\n",
        "\n",
        "For this, we're going to need two classses:\n",
        "\n",
        "-  ``Transition`` - a named tuple representing a single transition in\n",
        "   our environment. It essentially maps (state, action) pairs\n",
        "   to their (next_state, reward) result, with the state being the\n",
        "   screen difference image as described later on.\n",
        "-  ``ReplayMemory`` - a cyclic buffer of bounded size that holds the\n",
        "   transitions observed recently. It also implements a ``.sample()``\n",
        "   method for selecting a random batch of transitions for training.\n",
        "\n",
        "\n"
      ]
    },
    {
      "cell_type": "code",
      "execution_count": null,
      "metadata": {
        "id": "pGFmJ7_yr4Mo"
      },
      "outputs": [],
      "source": [
        "Transition = namedtuple('Transition',\n",
        "                        ('state', 'action', 'next_state', 'reward'))\n",
        "\n",
        "\n",
        "class ReplayMemory(object):\n",
        "\n",
        "    def __init__(self, capacity):\n",
        "        self.memory = deque([],maxlen=capacity)\n",
        "\n",
        "    def push(self, *args):\n",
        "        \"\"\"Save a transition\"\"\"\n",
        "        self.memory.append(Transition(*args))\n",
        "\n",
        "    def sample(self, batch_size):\n",
        "        return random.sample(self.memory, batch_size)\n",
        "\n",
        "    def __len__(self):\n",
        "        return len(self.memory)"
      ]
    },
    {
      "cell_type": "markdown",
      "metadata": {
        "id": "PYMcyK0Sr4Mr"
      },
      "source": [
        "Now, let's define our model. But first, let's quickly recap what a DQN is.\n",
        "\n",
        "## DQN algorithm\n",
        "\n",
        "Our environment is deterministic, so all equations presented here are\n",
        "also formulated deterministically for the sake of simplicity. In the\n",
        "reinforcement learning literature, they would also contain expectations\n",
        "over stochastic transitions in the environment.\n",
        "\n",
        "Our aim will be to train a policy that tries to maximize the discounted,\n",
        "cumulative reward\n",
        "$R_{t_0} = \\sum_{t=t_0}^{\\infty} \\gamma^{t - t_0} r_t$, where\n",
        "$R_{t_0}$ is also known as the *return*. The discount,\n",
        "$\\gamma$, should be a constant between $0$ and $1$\n",
        "that ensures the sum converges. A lower $\\gamma$ makes \n",
        "rewards from the uncertain far future less important for our agent \n",
        "than the ones in the near future that it can be fairly confident \n",
        "about. It also encourages agents to collect reward closer in time \n",
        "than equivalent rewards temporally future away.\n",
        "\n",
        "The main idea behind Q-learning is that if we had a function\n",
        "$Q^*: State \\times Action \\rightarrow \\mathbb{R}$, that could tell\n",
        "us what our return would be, if we were to take an action in a given\n",
        "state, then we could easily construct a policy that maximizes our\n",
        "rewards:\n",
        "\n",
        "\\begin{align}\\pi^*(s) = \\arg\\!\\max_a \\ Q^*(s, a)\\end{align}\n",
        "\n",
        "However, we don't know everything about the world, so we don't have\n",
        "access to $Q^*$. But, since neural networks are universal function\n",
        "approximators, we can simply create one and train it to resemble\n",
        "$Q^*$.\n",
        "\n",
        "For our training update rule, we'll use a fact that every $Q$\n",
        "function for some policy obeys the Bellman equation:\n",
        "\n",
        "\\begin{align}Q^{\\pi}(s, a) = r + \\gamma Q^{\\pi}(s', \\pi(s'))\\end{align}\n",
        "\n",
        "The difference between the two sides of the equality is known as the\n",
        "temporal difference error, $\\delta$:\n",
        "\n",
        "\\begin{align}\\delta = Q(s, a) - (r + \\gamma \\max_a' Q(s', a))\\end{align}\n",
        "\n",
        "To minimise this error, we will use the [Huber\n",
        "loss](https://en.wikipedia.org/wiki/Huber_loss)_. The Huber loss acts\n",
        "like the mean squared error when the error is small, but like the mean\n",
        "absolute error when the error is large - this makes it more robust to\n",
        "outliers when the estimates of $Q$ are very noisy. We calculate\n",
        "this over a batch of transitions, $B$, sampled from the replay\n",
        "memory:\n",
        "\n",
        "\\begin{align}\\mathcal{L} = \\frac{1}{|B|}\\sum_{(s, a, s', r) \\ \\in \\ B} \\mathcal{L}(\\delta)\\end{align}\n",
        "\n",
        "\\begin{align}\\text{where} \\quad \\mathcal{L}(\\delta) = \\begin{cases}\n",
        "     \\frac{1}{2}{\\delta^2}  & \\text{for } |\\delta| \\le 1, \\\\\n",
        "     |\\delta| - \\frac{1}{2} & \\text{otherwise.}\n",
        "   \\end{cases}\\end{align}\n",
        "\n",
        "### Q-network\n",
        "\n",
        "Our model will be a convolutional neural network that takes in the\n",
        "difference between the current and previous screen patches. It has two\n",
        "outputs, representing $Q(s, \\mathrm{left})$ and\n",
        "$Q(s, \\mathrm{right})$ (where $s$ is the input to the\n",
        "network). In effect, the network is trying to predict the *expected return* of\n",
        "taking each action given the current input.\n",
        "\n",
        "\n"
      ]
    },
    {
      "cell_type": "code",
      "execution_count": null,
      "metadata": {
        "id": "lQUSQkt3ukag"
      },
      "outputs": [],
      "source": [
        "n_input = train_env.observation_space.shape[0]\n",
        "n_hid = 128\n",
        "n_output = train_env.action_space.n"
      ]
    },
    {
      "cell_type": "code",
      "execution_count": null,
      "metadata": {
        "colab": {
          "base_uri": "https://localhost:8080/"
        },
        "id": "Eb_9T0LNDkhH",
        "outputId": "5dda0b61-0ad1-4131-b530-fecc6a487bb2"
      },
      "outputs": [
        {
          "name": "stdout",
          "output_type": "stream",
          "text": [
            "4 128 2\n"
          ]
        }
      ],
      "source": [
        "print(n_input,n_hid,n_output)"
      ]
    },
    {
      "cell_type": "code",
      "execution_count": null,
      "metadata": {
        "id": "ZQJEvoC1r4Ms"
      },
      "outputs": [],
      "source": [
        "class DQN(nn.Module):\n",
        "\n",
        "    def __init__(self, n_input=n_input, n_hid=n_hid, n_output=n_output):\n",
        "        super(DQN, self).__init__()\n",
        "        self.layer1 = nn.Linear(n_input, n_hid)\n",
        "        self.layer2 = nn.Linear(n_hid, n_hid)\n",
        "        self.layer3 = nn.Linear(n_hid, n_output)\n",
        "        \n",
        "    # Called with either one element to determine next action, or a batch\n",
        "    # during optimization. Returns tensor([[left0exp,right0exp]...]).\n",
        "    def forward(self, x):\n",
        "        x = F.relu(self.layer1(x))\n",
        "        x = F.relu(self.layer2(x))\n",
        "        return self.layer3(x)"
      ]
    },
    {
      "cell_type": "markdown",
      "metadata": {
        "id": "A8UkNv0FSTve"
      },
      "source": [
        "## Action selection"
      ]
    },
    {
      "cell_type": "code",
      "execution_count": null,
      "metadata": {
        "id": "FLkcoY2iSV5T"
      },
      "outputs": [],
      "source": [
        "# EPS_START is the starting value of epsilon\n",
        "# EPS_END is the final value of epsilon\n",
        "# EPS_DECAY controls the rate of exponential decay of epsilon, higher means a slower decay\n",
        "EPS_START = 0.9\n",
        "EPS_END = 0.05\n",
        "EPS_DECAY = 1000\n",
        "\n",
        "# Greedy policy\n",
        "def select_action(env, state, policy_net):\n",
        "    global steps_done\n",
        "    sample = random.random()\n",
        "    eps_threshold = EPS_END + (EPS_START - EPS_END) * \\\n",
        "        math.exp(-1. * steps_done / EPS_DECAY)\n",
        "    steps_done += 1\n",
        "    if sample > eps_threshold:\n",
        "        with torch.no_grad():\n",
        "            # t.max(1) will return largest column value of each row.\n",
        "            # second column on max result is index of where max element was\n",
        "            # found, so we pick action with the larger expected reward.\n",
        "            return policy_net(state).max(1)[1].view(1, 1)\n",
        "    else:\n",
        "        return torch.tensor([[env.action_space.sample()]], device=device, dtype=torch.long)"
      ]
    },
    {
      "cell_type": "markdown",
      "metadata": {
        "id": "hU5uJS1mU7i3"
      },
      "source": [
        "## Training"
      ]
    },
    {
      "cell_type": "code",
      "execution_count": null,
      "metadata": {
        "id": "AhzTjX0Yvqkv"
      },
      "outputs": [],
      "source": [
        "def compute_Q_values(memory, policy_net, target_net, batch_size, gamma):\n",
        "\n",
        "    # If memory too small\n",
        "    if len(memory) < batch_size:\n",
        "        return None, None\n",
        "    \n",
        "    # Sample batch data\n",
        "    transitions = memory.sample(batch_size)\n",
        "    batch = Transition(*zip(*transitions)) # Transpose the batch \n",
        "\n",
        "    # Compute a mask of non-final states and concatenate the batch elements\n",
        "    # (a final state would've been the one after which simulation ended)\n",
        "    non_final_mask = torch.tensor(tuple(map(lambda s: s is not None,\n",
        "                                          batch.next_state)), device=device, dtype=torch.bool)\n",
        "    non_final_next_states = torch.cat([s for s in batch.next_state\n",
        "                                                if s is not None])\n",
        "    state_batch = torch.cat(batch.state)\n",
        "    action_batch = torch.cat(batch.action)\n",
        "    reward_batch = torch.cat(batch.reward)\n",
        "\n",
        "    # Compute Q(s_t, a) - the model computes Q(s_t), then we select the\n",
        "    # columns of actions taken. These are the actions which would've been taken\n",
        "    # for each batch state according to policy_net\n",
        "    Q_values = policy_net(state_batch).gather(1, action_batch)\n",
        "\n",
        "    # Compute V(s_{t+1}) for all next states.\n",
        "    # Expected values of actions for non_final_next_states are computed based\n",
        "    # on the \"older\" target_net; selecting their best reward with max(1)[0].\n",
        "    # This is merged based on the mask, such that we'll have either the expected\n",
        "    # state value or 0 in case the state was final.\n",
        "    max_values = torch.zeros(batch_size, device=device)\n",
        "    with torch.no_grad():\n",
        "        max_values[non_final_mask] = target_net(non_final_next_states).max(1)[0]\n",
        "        \n",
        "    # Compute the expected Q values\n",
        "    expected_Q_values = reward_batch + gamma * max_values\n",
        "\n",
        "    return Q_values, expected_Q_values"
      ]
    },
    {
      "cell_type": "code",
      "execution_count": null,
      "metadata": {
        "id": "ZeuddaTFxKFV"
      },
      "outputs": [],
      "source": [
        "def update_policy(memory, policy_net, target_net, batch_size,\n",
        "                  gamma, criterion, optimizer):\n",
        "\n",
        "    # Recover Q_values\n",
        "    Q_values, expected_Q_values = compute_Q_values(memory, policy_net,\n",
        "                                                   target_net, batch_size, gamma)\n",
        "    \n",
        "    # If memory too small, no optimization\n",
        "    if (Q_values is None) and (expected_Q_values is None):\n",
        "      return np.inf\n",
        "\n",
        "    # Compute Huber loss\n",
        "    loss = criterion(Q_values, expected_Q_values.unsqueeze(1))\n",
        "\n",
        "    # Optimize the model\n",
        "    optimizer.zero_grad()\n",
        "    loss.backward()\n",
        "    optimizer.step()\n",
        "\n",
        "    return loss.item()"
      ]
    },
    {
      "cell_type": "code",
      "execution_count": null,
      "metadata": {
        "id": "12cg6Tg0XfQc"
      },
      "outputs": [],
      "source": [
        "# TAU is the update rate of the target network\n",
        "TAU = 0.005\n",
        "\n",
        "def train(memory, env, policy_net, target_net,\n",
        "          batch_size, gamma, criterion, optimizer):\n",
        "\n",
        "    policy_net.train()\n",
        "    target_net.eval()\n",
        "    episode_reward = 0\n",
        "    n_samples = 0\n",
        "\n",
        "    # Initialize environment and state\n",
        "    if gym.__version__[:4] == '0.26':\n",
        "        state, _ = env.reset()\n",
        "    elif gym.__version__[:4] == '0.25':\n",
        "        state, _ = env.reset(return_info=True)\n",
        "    state = torch.tensor(state, dtype=torch.float32, device=device).unsqueeze(0)\n",
        "\n",
        "    for t in count():\n",
        "\n",
        "        # Select action\n",
        "        action = select_action(env, state, policy_net)\n",
        "        observation, reward, terminated, truncated, _ = env.step(action.item())\n",
        "        episode_reward += reward\n",
        "        n_samples += 1\n",
        "        reward = torch.tensor([reward], device=device)\n",
        "        done = terminated or truncated\n",
        "\n",
        "        if terminated:\n",
        "            next_state = None\n",
        "        else:\n",
        "            next_state = torch.tensor(observation, dtype=torch.float32, device=device).unsqueeze(0)\n",
        "\n",
        "        # Store the transition in memory\n",
        "        memory.push(state, action, next_state, reward)\n",
        "\n",
        "        # Move to the next state\n",
        "        state = next_state\n",
        "\n",
        "        # Optimize policy\n",
        "        loss = update_policy(memory, policy_net, target_net, batch_size,\n",
        "                             gamma, criterion, optimizer)\n",
        "\n",
        "        # Soft update of the target network's weights\n",
        "        # θ′ ← τ θ + (1 −τ )θ′\n",
        "        target_net_state_dict = target_net.state_dict()\n",
        "        policy_net_state_dict = policy_net.state_dict()\n",
        "        for key in policy_net_state_dict:\n",
        "            target_net_state_dict[key] = (policy_net_state_dict[key]*TAU \n",
        "                                          + target_net_state_dict[key]*(1-TAU))\n",
        "        target_net.load_state_dict(target_net_state_dict)\n",
        "\n",
        "        if done:\n",
        "            break\n",
        "\n",
        "    return loss, episode_reward, n_samples"
      ]
    },
    {
      "cell_type": "code",
      "execution_count": null,
      "metadata": {
        "id": "MTw3ZgKp52Pp"
      },
      "outputs": [],
      "source": [
        "def evaluate(env, policy_net):\n",
        "    global steps_done\n",
        "    policy_net.eval()\n",
        "    episode_reward = 0\n",
        "\n",
        "    # Initialize environment and state\n",
        "    if gym.__version__[:4] == '0.26':\n",
        "        state, _ = env.reset()\n",
        "    elif gym.__version__[:4] == '0.25':\n",
        "        state, _ = env.reset(return_info=True)\n",
        "    state = torch.tensor(state, dtype=torch.float32, device=device).unsqueeze(0)\n",
        "\n",
        "    for t in count():\n",
        "\n",
        "        # Select action\n",
        "        action = select_action(env, state, policy_net)\n",
        "        steps_done -= 1 # do not update steps_done\n",
        "        observation, reward, terminated, truncated, _ = env.step(action.item())\n",
        "        episode_reward += reward\n",
        "        done = terminated or truncated\n",
        "\n",
        "        if terminated:\n",
        "            next_state = None\n",
        "        else:\n",
        "            next_state = torch.tensor(observation, dtype=torch.float32, device=device).unsqueeze(0)\n",
        "\n",
        "        # Move to the next state\n",
        "        state = next_state\n",
        "\n",
        "        if done:\n",
        "            break\n",
        "\n",
        "    return episode_reward"
      ]
    },
    {
      "cell_type": "code",
      "execution_count": null,
      "metadata": {
        "colab": {
          "base_uri": "https://localhost:8080/"
        },
        "id": "sa8-uHqL0hgt",
        "outputId": "178f362a-b1e1-47f2-ccd3-2cbd732f8684"
      },
      "outputs": [
        {
          "name": "stdout",
          "output_type": "stream",
          "text": [
            "| Episode:   0 | Mean Train Rewards:  45.0 | Mean Test Rewards:  21.0 |\n",
            "| Episode:  10 | Mean Train Rewards:  23.5 | Mean Test Rewards:  17.3 |\n",
            "| Episode:  20 | Mean Train Rewards:  19.0 | Mean Test Rewards:  17.7 |\n",
            "| Episode:  30 | Mean Train Rewards:  17.1 | Mean Test Rewards:  16.1 |\n",
            "| Episode:  40 | Mean Train Rewards:  16.0 | Mean Test Rewards:  14.9 |\n",
            "| Episode:  50 | Mean Train Rewards:  14.6 | Mean Test Rewards:  14.6 |\n",
            "| Episode:  60 | Mean Train Rewards:  12.6 | Mean Test Rewards:  13.8 |\n",
            "| Episode:  70 | Mean Train Rewards:  12.2 | Mean Test Rewards:  12.7 |\n",
            "| Episode:  80 | Mean Train Rewards:  12.2 | Mean Test Rewards:  12.8 |\n",
            "| Episode:  90 | Mean Train Rewards:  12.3 | Mean Test Rewards:  13.3 |\n",
            "| Episode: 100 | Mean Train Rewards:  12.9 | Mean Test Rewards:  13.3 |\n",
            "| Episode: 110 | Mean Train Rewards:  13.7 | Mean Test Rewards:  14.1 |\n",
            "| Episode: 120 | Mean Train Rewards:  14.8 | Mean Test Rewards:  14.9 |\n",
            "| Episode: 130 | Mean Train Rewards:  38.1 | Mean Test Rewards:  36.3 |\n",
            "| Episode: 140 | Mean Train Rewards:  77.3 | Mean Test Rewards:  74.7 |\n",
            "| Episode: 150 | Mean Train Rewards:  99.8 | Mean Test Rewards:  95.0 |\n",
            "| Episode: 160 | Mean Train Rewards: 124.9 | Mean Test Rewards: 129.0 |\n",
            "| Episode: 170 | Mean Train Rewards: 155.4 | Mean Test Rewards: 158.4 |\n",
            "| Episode: 180 | Mean Train Rewards: 158.4 | Mean Test Rewards: 162.6 |\n",
            "| Episode: 190 | Mean Train Rewards: 144.9 | Mean Test Rewards: 152.3 |\n",
            "| Episode: 200 | Mean Train Rewards: 151.6 | Mean Test Rewards: 161.1 |\n",
            "| Episode: 210 | Mean Train Rewards: 157.3 | Mean Test Rewards: 154.9 |\n",
            "| Episode: 220 | Mean Train Rewards: 155.0 | Mean Test Rewards: 151.9 |\n",
            "| Episode: 230 | Mean Train Rewards: 153.7 | Mean Test Rewards: 153.2 |\n",
            "| Episode: 240 | Mean Train Rewards: 156.6 | Mean Test Rewards: 153.2 |\n",
            "| Episode: 250 | Mean Train Rewards: 155.7 | Mean Test Rewards: 152.4 |\n",
            "| Episode: 260 | Mean Train Rewards: 151.8 | Mean Test Rewards: 154.3 |\n",
            "| Episode: 270 | Mean Train Rewards: 152.9 | Mean Test Rewards: 155.8 |\n",
            "| Episode: 280 | Mean Train Rewards: 155.2 | Mean Test Rewards: 157.3 |\n",
            "| Episode: 290 | Mean Train Rewards: 154.9 | Mean Test Rewards: 157.4 |\n",
            "| Episode: 300 | Mean Train Rewards: 154.0 | Mean Test Rewards: 157.5 |\n",
            "| Episode: 310 | Mean Train Rewards: 153.5 | Mean Test Rewards: 156.0 |\n",
            "| Episode: 320 | Mean Train Rewards: 151.1 | Mean Test Rewards: 157.1 |\n",
            "| Episode: 330 | Mean Train Rewards: 152.2 | Mean Test Rewards: 159.4 |\n",
            "| Episode: 340 | Mean Train Rewards: 157.2 | Mean Test Rewards: 163.1 |\n",
            "| Episode: 350 | Mean Train Rewards: 163.5 | Mean Test Rewards: 166.5 |\n",
            "| Episode: 360 | Mean Train Rewards: 169.0 | Mean Test Rewards: 170.9 |\n",
            "| Episode: 370 | Mean Train Rewards: 175.5 | Mean Test Rewards: 174.3 |\n",
            "| Episode: 380 | Mean Train Rewards: 181.6 | Mean Test Rewards: 181.8 |\n",
            "| Episode: 390 | Mean Train Rewards: 182.0 | Mean Test Rewards: 185.4 |\n",
            "| Episode: 400 | Mean Train Rewards: 188.3 | Mean Test Rewards: 193.0 |\n",
            "| Episode: 410 | Mean Train Rewards: 194.5 | Mean Test Rewards: 201.6 |\n",
            "| Episode: 420 | Mean Train Rewards: 204.8 | Mean Test Rewards: 213.7 |\n",
            "| Episode: 430 | Mean Train Rewards: 220.4 | Mean Test Rewards: 230.0 |\n",
            "| Episode: 440 | Mean Train Rewards: 272.9 | Mean Test Rewards: 282.7 |\n",
            "| Episode: 450 | Mean Train Rewards: 329.9 | Mean Test Rewards: 340.4 |\n",
            "| Episode: 460 | Mean Train Rewards: 388.6 | Mean Test Rewards: 395.9 |\n",
            "| Episode: 470 | Mean Train Rewards: 441.5 | Mean Test Rewards: 448.1 |\n",
            "Reached reward threshold in 476 episodes\n"
          ]
        }
      ],
      "source": [
        "# BATCH_SIZE is the number of transitions sampled from the replay buffer\n",
        "# GAMMA is the discount factor as mentioned in the previous section\n",
        "# LR is the learning rate of the AdamW optimizer\n",
        "batch_size = 128\n",
        "gamma = 0.99\n",
        "lr = 1e-4\n",
        "LOG = 10\n",
        "N_TRIALS = 50\n",
        "REWARD_THRESHOLD = 475\n",
        "if torch.cuda.is_available():\n",
        "    MAX_EPISODES = 600\n",
        "else:\n",
        "    MAX_EPISODES = 50\n",
        "\n",
        "# Models\n",
        "policy_net = DQN().to(device)\n",
        "target_net = DQN().to(device)\n",
        "target_net.load_state_dict(policy_net.state_dict())\n",
        "\n",
        "# Optimizer\n",
        "optimizer = optim.AdamW(policy_net.parameters(), lr=lr, amsgrad=True)\n",
        "\n",
        "# Criterion\n",
        "criterion = nn.SmoothL1Loss()\n",
        "\n",
        "# Memory Buffer\n",
        "memory = ReplayMemory(10000)\n",
        "\n",
        "steps_done = 0\n",
        "nb_samples = [0]\n",
        "losses = []\n",
        "train_rewards = []\n",
        "test_rewards = []\n",
        "\n",
        "for episode in range(MAX_EPISODES):\n",
        "    # Train model\n",
        "    loss, train_reward, n_samples = train(memory, train_env, policy_net,\n",
        "                                          target_net, batch_size,\n",
        "                                          gamma, criterion, optimizer)\n",
        "    # Evaluate model\n",
        "    test_reward = evaluate(test_env, policy_net)\n",
        "\n",
        "    # Update rewards \n",
        "    losses.append(loss)\n",
        "    train_rewards.append(train_reward)\n",
        "    test_rewards.append(test_reward)\n",
        "    nb_samples.append(n_samples + nb_samples[-1])    \n",
        "    mean_train_rewards = np.mean(train_rewards[-N_TRIALS:])\n",
        "    mean_test_rewards = np.mean(test_rewards[-N_TRIALS:])\n",
        "    \n",
        "    if episode % LOG == 0:\n",
        "    \n",
        "        print(f'| Episode: {episode:3} | Mean Train Rewards: {mean_train_rewards:5.1f} | Mean Test Rewards: {mean_test_rewards:5.1f} |')\n",
        "    \n",
        "    if mean_test_rewards >= REWARD_THRESHOLD:\n",
        "        \n",
        "        print(f'Reached reward threshold in {episode} episodes')\n",
        "        \n",
        "        break\n",
        "\n",
        "nb_samples = nb_samples[1:]"
      ]
    },
    {
      "cell_type": "code",
      "execution_count": null,
      "metadata": {
        "colab": {
          "base_uri": "https://localhost:8080/",
          "height": 522
        },
        "id": "p3QxBy2r765y",
        "outputId": "8dfa26d8-9126-4717-d557-a5fa794d09b6"
      },
      "outputs": [
        {
          "data": {
            "image/png": "[encoded data removed]",
            "text/plain": [
              "<Figure size 864x576 with 1 Axes>"
            ]
          },
          "metadata": {},
          "output_type": "display_data"
        }
      ],
      "source": [
        "plt.figure(figsize=(12,8))\n",
        "plt.plot(losses, label='Training Loss')\n",
        "plt.title('Evolution of Training Loss')\n",
        "plt.xlabel('Episode', fontsize=20)\n",
        "plt.ylabel('Loss', fontsize=20)\n",
        "plt.legend(loc='lower right')\n",
        "plt.grid()"
      ]
    },
    {
      "cell_type": "code",
      "execution_count": null,
      "metadata": {
        "colab": {
          "base_uri": "https://localhost:8080/",
          "height": 522
        },
        "id": "psErhUiz5vpx",
        "outputId": "12ba002e-4751-4e93-ce7d-11328e02732a"
      },
      "outputs": [
        {
          "data": {
            "image/png": "[encoded data removed]",
            "text/plain": [
              "<Figure size 864x576 with 1 Axes>"
            ]
          },
          "metadata": {},
          "output_type": "display_data"
        }
      ],
      "source": [
        "plt.figure(figsize=(12,8))\n",
        "plt.plot(test_rewards, label='Test Reward')\n",
        "plt.plot(train_rewards, label='Train Reward')\n",
        "plt.title('Evolution of Reward')\n",
        "plt.xlabel('Episode', fontsize=20)\n",
        "plt.ylabel('Reward', fontsize=20)\n",
        "plt.hlines(REWARD_THRESHOLD, 0, len(test_rewards), color='r')\n",
        "plt.legend(loc='lower right')\n",
        "plt.grid()"
      ]
    },
    {
      "cell_type": "code",
      "execution_count": null,
      "metadata": {
        "colab": {
          "base_uri": "https://localhost:8080/"
        },
        "id": "dQxSBBmyJ-A9",
        "outputId": "cbb0389f-ce1f-463c-becc-ff52262a2062"
      },
      "outputs": [
        {
          "name": "stdout",
          "output_type": "stream",
          "text": [
            "tensor(0.6972, device='cuda:0')\n",
            "tensor(0.4685, device='cuda:0')\n",
            "tensor(0.1769, device='cuda:0')\n",
            "tensor(0.0291, device='cuda:0')\n",
            "tensor(0.4149, device='cuda:0')\n",
            "tensor(0.0064, device='cuda:0')\n"
          ]
        }
      ],
      "source": [
        "## Model norms\n",
        "for p in policy_net.parameters():\n",
        "    print(torch.norm(p.grad))"
      ]
    },
    {
      "cell_type": "markdown",
      "metadata": {
        "id": "S22IiPBWMiRF"
      },
      "source": [
        "# **Introduce Differential Privacy on the gradient weights**"
      ]
    },
    {
      "cell_type": "markdown",
      "metadata": {
        "id": "PMCFUwKAjVEA"
      },
      "source": [
        "## Import"
      ]
    },
    {
      "cell_type": "code",
      "execution_count": null,
      "metadata": {
        "colab": {
          "base_uri": "https://localhost:8080/"
        },
        "id": "l-hrRU70jVEK",
        "outputId": "8f49b426-e8ec-4dd9-f068-5522c2698dc2"
      },
      "outputs": [
        {
          "name": "stdout",
          "output_type": "stream",
          "text": [
            "Looking in indexes: https://pypi.org/simple, https://us-python.pkg.dev/colab-wheels/public/simple/\n",
            "Requirement already satisfied: gym[classic_control] in /usr/local/lib/python3.8/dist-packages (0.25.2)\n",
            "Requirement already satisfied: numpy>=1.18.0 in /usr/local/lib/python3.8/dist-packages (from gym[classic_control]) (1.21.6)\n",
            "Requirement already satisfied: cloudpickle>=1.2.0 in /usr/local/lib/python3.8/dist-packages (from gym[classic_control]) (1.5.0)\n",
            "Requirement already satisfied: importlib-metadata>=4.8.0 in /usr/local/lib/python3.8/dist-packages (from gym[classic_control]) (5.1.0)\n",
            "Requirement already satisfied: gym-notices>=0.0.4 in /usr/local/lib/python3.8/dist-packages (from gym[classic_control]) (0.0.8)\n",
            "Collecting pygame==2.1.0\n",
            "  Downloading pygame-2.1.0-cp38-cp38-manylinux_2_17_x86_64.manylinux2014_x86_64.whl (18.3 MB)\n",
            "\u001b[K     |████████████████████████████████| 18.3 MB 93 kB/s \n",
            "\u001b[?25hRequirement already satisfied: zipp>=0.5 in /usr/local/lib/python3.8/dist-packages (from importlib-metadata>=4.8.0->gym[classic_control]) (3.11.0)\n",
            "Installing collected packages: pygame\n",
            "Successfully installed pygame-2.1.0\n"
          ]
        }
      ],
      "source": [
        "%matplotlib inline\n",
        "!pip3 install gym[classic_control]"
      ]
    },
    {
      "cell_type": "code",
      "execution_count": null,
      "metadata": {
        "id": "HiwndvCnjVEL"
      },
      "outputs": [],
      "source": [
        "import gym\n",
        "import math\n",
        "import random\n",
        "import numpy as np\n",
        "import matplotlib\n",
        "import matplotlib.pyplot as plt\n",
        "from collections import namedtuple, deque\n",
        "from itertools import count\n",
        "\n",
        "import torch\n",
        "import torch.nn as nn\n",
        "import torch.optim as optim\n",
        "import torch.nn.functional as F"
      ]
    },
    {
      "cell_type": "markdown",
      "metadata": {
        "id": "4pLfRxXlMxL9"
      },
      "source": [
        "## Initialize environments"
      ]
    },
    {
      "cell_type": "code",
      "execution_count": null,
      "metadata": {
        "id": "iPc_gC4uMiRT"
      },
      "outputs": [],
      "source": [
        "device = torch.device('cuda' if torch.cuda.is_available() else 'cpu')\n",
        "train_env = gym.make('CartPole-v1', new_step_api=True)\n",
        "test_env = gym.make('CartPole-v1', new_step_api=True)\n",
        "if gym.__version__[:4] == '0.26':\n",
        "    train_env = gym.make('CartPole-v1')\n",
        "    test_env = gym.make('CartPole-v1')\n",
        "elif gym.__version__[:4] == '0.25':\n",
        "    train_env = gym.make('CartPole-v1', new_step_api=True)\n",
        "    test_env = gym.make('CartPole-v1', new_step_api=True)\n",
        "else:\n",
        "    raise ImportError(f\"Requires gym v25 or v26, actual version: {gym.__version__}\")"
      ]
    },
    {
      "cell_type": "markdown",
      "metadata": {
        "id": "xZipQu1cMiRU"
      },
      "source": [
        "### Seed"
      ]
    },
    {
      "cell_type": "code",
      "execution_count": null,
      "metadata": {
        "id": "ILQV2I5tMiRV"
      },
      "outputs": [],
      "source": [
        "SEED = 42\n",
        "train_env.reset(seed=SEED)\n",
        "test_env.reset(seed=SEED+1)\n",
        "np.random.seed(SEED)\n",
        "torch.manual_seed(SEED);"
      ]
    },
    {
      "cell_type": "markdown",
      "metadata": {
        "id": "duR3yXx3MiRX"
      },
      "source": [
        "## Replay Memory\n",
        "\n",
        "\n"
      ]
    },
    {
      "cell_type": "code",
      "execution_count": null,
      "metadata": {
        "id": "cPggAXx6MiRX"
      },
      "outputs": [],
      "source": [
        "Transition = namedtuple('Transition',\n",
        "                        ('state', 'action', 'next_state', 'reward'))\n",
        "\n",
        "\n",
        "class ReplayMemory(object):\n",
        "\n",
        "    def __init__(self, capacity):\n",
        "        self.memory = deque([],maxlen=capacity)\n",
        "\n",
        "    def push(self, *args):\n",
        "        \"\"\"Save a transition\"\"\"\n",
        "        self.memory.append(Transition(*args))\n",
        "\n",
        "    def sample(self, batch_size):\n",
        "        return random.sample(self.memory, batch_size)\n",
        "\n",
        "    def __len__(self):\n",
        "        return len(self.memory)"
      ]
    },
    {
      "cell_type": "markdown",
      "metadata": {
        "id": "IhSVI8iyMiRa"
      },
      "source": [
        "## DQN algorithm\n",
        "\n",
        "\n"
      ]
    },
    {
      "cell_type": "code",
      "execution_count": null,
      "metadata": {
        "id": "1TjADqDHMiRb"
      },
      "outputs": [],
      "source": [
        "n_input = train_env.observation_space.shape[0]\n",
        "n_hid = 128\n",
        "n_output = train_env.action_space.n"
      ]
    },
    {
      "cell_type": "code",
      "execution_count": null,
      "metadata": {
        "colab": {
          "base_uri": "https://localhost:8080/"
        },
        "id": "9XlhWihlMiRc",
        "outputId": "d07024f0-5c56-42b2-f739-dcc06a9807da"
      },
      "outputs": [
        {
          "name": "stdout",
          "output_type": "stream",
          "text": [
            "4 128 2\n"
          ]
        }
      ],
      "source": [
        "print(n_input,n_hid,n_output)"
      ]
    },
    {
      "cell_type": "code",
      "execution_count": null,
      "metadata": {
        "id": "1CwEJxi7MiRe"
      },
      "outputs": [],
      "source": [
        "class DQN(nn.Module):\n",
        "\n",
        "    def __init__(self, n_input=n_input, n_hid=n_hid, n_output=n_output):\n",
        "        super(DQN, self).__init__()\n",
        "        self.layer1 = nn.Linear(n_input, n_hid)\n",
        "        self.layer2 = nn.Linear(n_hid, n_hid)\n",
        "        self.layer3 = nn.Linear(n_hid, n_output)\n",
        "        \n",
        "    # Called with either one element to determine next action, or a batch\n",
        "    # during optimization. Returns tensor([[left0exp,right0exp]...]).\n",
        "    def forward(self, x):\n",
        "        x = F.relu(self.layer1(x))\n",
        "        x = F.relu(self.layer2(x))\n",
        "        return self.layer3(x)"
      ]
    },
    {
      "cell_type": "markdown",
      "metadata": {
        "id": "D-pwiwIbMiRe"
      },
      "source": [
        "## Action selection"
      ]
    },
    {
      "cell_type": "code",
      "execution_count": null,
      "metadata": {
        "id": "zA89J8NUMiRf"
      },
      "outputs": [],
      "source": [
        "# EPS_START is the starting value of epsilon\n",
        "# EPS_END is the final value of epsilon\n",
        "# EPS_DECAY controls the rate of exponential decay of epsilon, higher means a slower decay\n",
        "EPS_START = 0.9\n",
        "EPS_END = 0.05\n",
        "EPS_DECAY = 1000\n",
        "\n",
        "# Greedy policy\n",
        "def select_action(env, state, policy_net):\n",
        "    global steps_done\n",
        "    sample = random.random()\n",
        "    eps_threshold = EPS_END + (EPS_START - EPS_END) * \\\n",
        "        math.exp(-1. * steps_done / EPS_DECAY)\n",
        "    steps_done += 1\n",
        "    if sample > eps_threshold:\n",
        "        with torch.no_grad():\n",
        "            # t.max(1) will return largest column value of each row.\n",
        "            # second column on max result is index of where max element was\n",
        "            # found, so we pick action with the larger expected reward.\n",
        "            return policy_net(state).max(1)[1].view(1, 1)\n",
        "    else:\n",
        "        return torch.tensor([[env.action_space.sample()]], device=device, dtype=torch.long)"
      ]
    },
    {
      "cell_type": "markdown",
      "metadata": {
        "id": "k00kh7QYMiRf"
      },
      "source": [
        "## Training"
      ]
    },
    {
      "cell_type": "markdown",
      "metadata": {
        "id": "Sy3aX-oePxjO"
      },
      "source": [
        "## Adapt code to DP framework"
      ]
    },
    {
      "cell_type": "code",
      "execution_count": null,
      "metadata": {
        "id": "lhn3JS9FMiRg"
      },
      "outputs": [],
      "source": [
        "def compute_Q_batches(memory, batch_size):\n",
        "\n",
        "    # If memory too small\n",
        "    if len(memory) < batch_size:\n",
        "        return None, None, None\n",
        "    \n",
        "    # Sample batch data\n",
        "    transitions = memory.sample(batch_size)\n",
        "    batch = Transition(*zip(*transitions)) # Transpose the batch \n",
        "\n",
        "    # Compute a mask of non-final states and concatenate the batch elements\n",
        "    # (a final state would've been the one after which simulation ended)\n",
        "    non_final_mask = torch.tensor(tuple(map(lambda s: s is not None,\n",
        "                                          batch.next_state)), device=device, dtype=torch.bool)\n",
        "    non_final_next_states = torch.cat([s for s in batch.next_state\n",
        "                                                if s is not None])\n",
        "    state_batch = torch.cat(batch.state)\n",
        "    action_batch = torch.cat(batch.action)\n",
        "    reward_batch = torch.cat(batch.reward)\n",
        "\n",
        "    # Compute V(s_{t+1}) for all next states.\n",
        "    # Expected values of actions for non_final_next_states are computed based\n",
        "    # on the \"older\" target_net; selecting their best reward with max(1)[0].\n",
        "    # This is merged based on the mask, such that we'll have either the expected\n",
        "    # state value or 0 in case the state was final.\n",
        "    max_values = torch.zeros(batch_size, device=device)\n",
        "    with torch.no_grad():\n",
        "        max_values[non_final_mask] = target_net(non_final_next_states).max(1)[0]\n",
        "        \n",
        "    # Compute the expected Q values\n",
        "    expected_Q_values = reward_batch + gamma * max_values\n",
        "\n",
        "    return state_batch, action_batch, expected_Q_values"
      ]
    },
    {
      "cell_type": "markdown",
      "metadata": {
        "id": "dNAf4QkkW7mm"
      },
      "source": [
        "## Compute gradient per sample"
      ]
    },
    {
      "cell_type": "code",
      "execution_count": null,
      "metadata": {
        "id": "sibezaleY1At"
      },
      "outputs": [],
      "source": [
        "from functorch import make_functional_with_buffers, vmap, grad\n",
        "\n",
        "def compute_loss_stateless_model(params, buffers, state_sample, action_sample,\n",
        "                                 expected_Q_values_sample, max_grad_norm,\n",
        "                                 fmodel, criterion):\n",
        "    batch = state_sample.unsqueeze(0)\n",
        "    targets = expected_Q_values_sample.unsqueeze(0)\n",
        "\n",
        "    predictions = fmodel(params, buffers, batch).gather(1, action_sample.unsqueeze(0))\n",
        "    loss = criterion(predictions, targets.unsqueeze(1))\n",
        "    return loss\n",
        "\n",
        "ft_compute_grad = grad(compute_loss_stateless_model)\n",
        "\n",
        "ft_compute_sample_grad = vmap(ft_compute_grad, in_dims=(None, None, 0, 0, 0, None, None, None))\n",
        "ft_compute_sample_loss = vmap(compute_loss_stateless_model, in_dims=(None, None, 0, 0, 0, None, None, None))\n"
      ]
    },
    {
      "cell_type": "code",
      "execution_count": null,
      "metadata": {
        "id": "pe_Lbu0mMiRg"
      },
      "outputs": [],
      "source": [
        "def DP_update_policy(memory, policy_net, target_net, max_grad_norm, sigma,\n",
        "                     batch_size, gamma, criterion, optimizer):\n",
        "\n",
        "    # Recover batches\n",
        "    state_batch, action_batch, expected_Q_values = compute_Q_batches(memory, batch_size)\n",
        "\n",
        "    # If memory too small, no optimization\n",
        "    if (state_batch is None) and (action_batch is None) and (expected_Q_values is None):\n",
        "        return np.inf\n",
        "\n",
        "    # Classic update\n",
        "    if sigma == 0:\n",
        "\n",
        "        # Recover Q_values\n",
        "        Q_values = policy_net(state_batch).gather(1, action_batch)\n",
        "\n",
        "        # Compute Huber loss\n",
        "        loss = criterion(Q_values, expected_Q_values.unsqueeze(1))\n",
        "\n",
        "        # Optimize the model\n",
        "        optimizer.zero_grad()\n",
        "        loss.backward()\n",
        "\n",
        "    # DP update\n",
        "    else:\n",
        "        # Recover gradient for all samples of the batch\n",
        "        fmodel, params, buffers = make_functional_with_buffers(policy_net)\n",
        "        sample_grads = ft_compute_sample_grad(params, buffers, state_batch,\n",
        "                                              action_batch, expected_Q_values,\n",
        "                                              max_grad_norm, fmodel, criterion)\n",
        "        losses = ft_compute_sample_loss(params, buffers, state_batch,\n",
        "                                        action_batch, expected_Q_values,\n",
        "                                        max_grad_norm, fmodel, criterion)\n",
        "        loss = torch.mean(losses)\n",
        "\n",
        "        # Differential Privacy: clip gradients and add gaussian noise on weights\n",
        "        for i, param in enumerate(policy_net.parameters()):\n",
        "  \n",
        "          # Clip inplace gradients seperately for each sample of the batch\n",
        "          sample_grad = sample_grads[i]\n",
        "          torch.nn.utils.clip_grad_norm_(sample_grad, max_norm=max_grad_norm)  # in-place\n",
        "\n",
        "          # Aggregate gradients to have a unique grad for the batch\n",
        "          param.grad = torch.mean(sample_grad, dim=0) \n",
        "\n",
        "          # Add noise\n",
        "          noise = torch.normal(mean=0, std=sigma*max_grad_norm, size=param.size()).to(device)\n",
        "          param.grad += noise/batch_size # Gaussian noise\n",
        "\n",
        "    # Optimize model\n",
        "    optimizer.step()\n",
        "\n",
        "    return loss.item()"
      ]
    },
    {
      "cell_type": "code",
      "execution_count": null,
      "metadata": {
        "id": "Ynb4wDwsMiRh"
      },
      "outputs": [],
      "source": [
        "# TAU is the update rate of the target network\n",
        "TAU = 0.005\n",
        "\n",
        "def DP_train(memory, env, policy_net, target_net, max_grad_norm,\n",
        "             sigma, batch_size, gamma, criterion, optimizer):\n",
        "\n",
        "    policy_net.train()\n",
        "    target_net.eval()\n",
        "    episode_reward = 0\n",
        "    n_samples = 0\n",
        "\n",
        "    # Initialize environment and state\n",
        "    if gym.__version__[:4] == '0.26':\n",
        "        state, _ = env.reset()\n",
        "    elif gym.__version__[:4] == '0.25':\n",
        "        state, _ = env.reset(return_info=True)\n",
        "    state = torch.tensor(state, dtype=torch.float32, device=device).unsqueeze(0)\n",
        "\n",
        "    for t in count():\n",
        "\n",
        "        # Select action\n",
        "        action = select_action(env, state, policy_net)\n",
        "        observation, reward, terminated, truncated, _ = env.step(action.item())\n",
        "        episode_reward += reward\n",
        "        n_samples += 1\n",
        "        reward = torch.tensor([reward], device=device)\n",
        "        done = terminated or truncated\n",
        "\n",
        "        if terminated:\n",
        "            next_state = None\n",
        "        else:\n",
        "            next_state = torch.tensor(observation, dtype=torch.float32, device=device).unsqueeze(0)\n",
        "\n",
        "        # Store the transition in memory\n",
        "        memory.push(state, action, next_state, reward)\n",
        "\n",
        "        # Move to the next state\n",
        "        state = next_state\n",
        "\n",
        "        # Optimize policy with Differential Privacy\n",
        "        loss = DP_update_policy(memory, policy_net, target_net, max_grad_norm,\n",
        "                                sigma, batch_size, gamma, criterion, optimizer)\n",
        "\n",
        "        # Soft update of the target network's weights\n",
        "        # θ′ ← τ θ + (1 −τ )θ′\n",
        "        target_net_state_dict = target_net.state_dict()\n",
        "        policy_net_state_dict = policy_net.state_dict()\n",
        "        for key in policy_net_state_dict:\n",
        "            target_net_state_dict[key] = (policy_net_state_dict[key]*TAU \n",
        "                                          + target_net_state_dict[key]*(1-TAU))\n",
        "        target_net.load_state_dict(target_net_state_dict)\n",
        "\n",
        "        if done:\n",
        "            break\n",
        "\n",
        "    return loss, episode_reward"
      ]
    },
    {
      "cell_type": "code",
      "execution_count": null,
      "metadata": {
        "id": "O9tNZnBBMiRi"
      },
      "outputs": [],
      "source": [
        "def evaluate(env, policy_net):\n",
        "    global steps_done\n",
        "    policy_net.eval()\n",
        "    episode_reward = 0\n",
        "\n",
        "    # Initialize environment and state\n",
        "    if gym.__version__[:4] == '0.26':\n",
        "        state, _ = env.reset()\n",
        "    elif gym.__version__[:4] == '0.25':\n",
        "        state, _ = env.reset(return_info=True)\n",
        "    state = torch.tensor(state, dtype=torch.float32, device=device).unsqueeze(0)\n",
        "\n",
        "    for t in count():\n",
        "\n",
        "        # Select action\n",
        "        action = select_action(env, state, policy_net)\n",
        "        steps_done -= 1 # do not update steps_done\n",
        "        observation, reward, terminated, truncated, _ = env.step(action.item())\n",
        "        episode_reward += reward\n",
        "        done = terminated or truncated\n",
        "\n",
        "        if terminated:\n",
        "            next_state = None\n",
        "        else:\n",
        "            next_state = torch.tensor(observation, dtype=torch.float32, device=device).unsqueeze(0)\n",
        "\n",
        "        # Move to the next state\n",
        "        state = next_state\n",
        "\n",
        "        if done:\n",
        "            break\n",
        "\n",
        "    return episode_reward"
      ]
    },
    {
      "cell_type": "code",
      "execution_count": null,
      "metadata": {
        "colab": {
          "background_save": true,
          "base_uri": "https://localhost:8080/"
        },
        "id": "Xl6fNZVEQWdk",
        "outputId": "454d1e7b-e9fa-4ca1-a872-f0b08032afc1"
      },
      "outputs": [
        {
          "name": "stdout",
          "output_type": "stream",
          "text": [
            "-------------- Noise: sigma = 0 ---------------\n",
            "\n",
            "| Episode:   0 | Train Reward:  26.0 | Test Reward:  18.0 |\n",
            "| Episode:  25 | Train Reward:  12.0 | Test Reward:   9.0 |\n",
            "| Episode:  50 | Train Reward:  15.0 | Test Reward:  15.0 |\n",
            "| Episode:  75 | Train Reward:  13.0 | Test Reward:   9.0 |\n",
            "| Episode: 100 | Train Reward:  11.0 | Test Reward:  10.0 |\n",
            "| Episode: 125 | Train Reward:  17.0 | Test Reward:  16.0 |\n",
            "| Episode: 150 | Train Reward:  40.0 | Test Reward:  44.0 |\n",
            "| Episode: 175 | Train Reward: 179.0 | Test Reward: 172.0 |\n",
            "| Episode: 200 | Train Reward: 154.0 | Test Reward: 183.0 |\n",
            "| Episode: 225 | Train Reward: 177.0 | Test Reward: 169.0 |\n",
            "| Episode: 250 | Train Reward: 174.0 | Test Reward: 144.0 |\n",
            "| Episode: 275 | Train Reward: 143.0 | Test Reward: 136.0 |\n",
            "| Episode: 300 | Train Reward: 146.0 | Test Reward: 120.0 |\n",
            "| Episode: 325 | Train Reward: 124.0 | Test Reward: 133.0 |\n",
            "| Episode: 350 | Train Reward: 236.0 | Test Reward: 144.0 |\n",
            "| Episode: 375 | Train Reward: 125.0 | Test Reward: 122.0 |\n",
            "| Episode: 400 | Train Reward: 209.0 | Test Reward: 359.0 |\n",
            "| Episode: 425 | Train Reward: 500.0 | Test Reward: 500.0 |\n",
            "Achieved convergence\n",
            "| Episode: 450 | Train Reward: 500.0 | Test Reward: 500.0 |\n",
            "| Episode: 475 | Train Reward: 500.0 | Test Reward: 500.0 |\n",
            "| Episode: 500 | Train Reward: 500.0 | Test Reward: 500.0 |\n",
            "| Episode: 525 | Train Reward: 500.0 | Test Reward: 500.0 |\n",
            "| Episode: 550 | Train Reward: 500.0 | Test Reward: 500.0 |\n",
            "| Episode: 575 | Train Reward: 500.0 | Test Reward: 500.0 |\n",
            "| Episode: 600 | Train Reward: 500.0 | Test Reward: 500.0 |\n",
            "| Episode: 625 | Train Reward: 500.0 | Test Reward: 500.0 |\n",
            "| Episode: 650 | Train Reward: 500.0 | Test Reward: 500.0 |\n",
            "| Episode: 675 | Train Reward: 500.0 | Test Reward: 500.0 |\n",
            "| Episode: 700 | Train Reward: 500.0 | Test Reward: 500.0 |\n",
            "| Episode: 725 | Train Reward: 500.0 | Test Reward: 500.0 |\n",
            "| Episode: 750 | Train Reward: 500.0 | Test Reward: 500.0 |\n",
            "| Episode: 775 | Train Reward: 500.0 | Test Reward: 500.0 |\n",
            "| Episode: 800 | Train Reward: 500.0 | Test Reward: 500.0 |\n",
            "| Episode: 825 | Train Reward: 500.0 | Test Reward: 500.0 |\n",
            "| Episode: 850 | Train Reward: 500.0 | Test Reward: 500.0 |\n",
            "| Episode: 875 | Train Reward: 500.0 | Test Reward: 500.0 |\n",
            "| Episode: 900 | Train Reward: 500.0 | Test Reward: 500.0 |\n",
            "| Episode: 925 | Train Reward: 500.0 | Test Reward: 500.0 |\n",
            "| Episode: 950 | Train Reward: 500.0 | Test Reward: 500.0 |\n",
            "| Episode: 975 | Train Reward: 500.0 | Test Reward: 500.0 |\n",
            "| Episode: 1000 | Train Reward: 500.0 | Test Reward: 500.0 |\n",
            "| Episode: 1025 | Train Reward: 500.0 | Test Reward: 500.0 |\n",
            "| Episode: 1050 | Train Reward: 500.0 | Test Reward: 500.0 |\n",
            "| Episode: 1075 | Train Reward: 500.0 | Test Reward: 500.0 |\n",
            "| Episode: 1100 | Train Reward: 500.0 | Test Reward: 500.0 |\n",
            "| Episode: 1125 | Train Reward: 500.0 | Test Reward: 500.0 |\n",
            "| Episode: 1150 | Train Reward: 500.0 | Test Reward: 500.0 |\n",
            "| Episode: 1175 | Train Reward: 500.0 | Test Reward: 500.0 |\n",
            "| Episode: 1200 | Train Reward: 500.0 | Test Reward: 500.0 |\n",
            "| Episode: 1225 | Train Reward: 500.0 | Test Reward: 500.0 |\n",
            "| Episode: 1250 | Train Reward: 500.0 | Test Reward: 500.0 |\n",
            "| Episode: 1275 | Train Reward: 500.0 | Test Reward: 500.0 |\n",
            "| Episode: 1300 | Train Reward: 500.0 | Test Reward: 500.0 |\n",
            "| Episode: 1325 | Train Reward: 500.0 | Test Reward: 500.0 |\n",
            "| Episode: 1350 | Train Reward: 500.0 | Test Reward: 500.0 |\n",
            "| Episode: 1375 | Train Reward: 500.0 | Test Reward: 500.0 |\n",
            "| Episode: 1400 | Train Reward: 500.0 | Test Reward: 500.0 |\n",
            "| Episode: 1425 | Train Reward: 500.0 | Test Reward: 500.0 |\n",
            "| Episode: 1450 | Train Reward: 500.0 | Test Reward: 500.0 |\n",
            "| Episode: 1475 | Train Reward: 500.0 | Test Reward: 500.0 |\n",
            "| Episode: 1500 | Train Reward: 500.0 | Test Reward: 500.0 |\n",
            "| Episode: 1525 | Train Reward: 500.0 | Test Reward: 500.0 |\n",
            "| Episode: 1550 | Train Reward: 500.0 | Test Reward: 500.0 |\n",
            "| Episode: 1575 | Train Reward: 500.0 | Test Reward: 500.0 |\n",
            "| Episode: 1600 | Train Reward: 500.0 | Test Reward: 500.0 |\n",
            "| Episode: 1625 | Train Reward: 500.0 | Test Reward: 500.0 |\n",
            "| Episode: 1650 | Train Reward: 500.0 | Test Reward: 500.0 |\n",
            "| Episode: 1675 | Train Reward: 500.0 | Test Reward: 500.0 |\n",
            "| Episode: 1700 | Train Reward: 500.0 | Test Reward: 500.0 |\n",
            "| Episode: 1725 | Train Reward: 500.0 | Test Reward: 500.0 |\n",
            "| Episode: 1750 | Train Reward: 500.0 | Test Reward: 500.0 |\n",
            "| Episode: 1775 | Train Reward: 500.0 | Test Reward: 500.0 |\n",
            "| Episode: 1800 | Train Reward: 500.0 | Test Reward: 500.0 |\n",
            "| Episode: 1825 | Train Reward: 500.0 | Test Reward: 500.0 |\n",
            "| Episode: 1850 | Train Reward: 500.0 | Test Reward: 500.0 |\n",
            "| Episode: 1875 | Train Reward: 500.0 | Test Reward: 500.0 |\n",
            "| Episode: 1900 | Train Reward: 500.0 | Test Reward: 500.0 |\n",
            "| Episode: 1925 | Train Reward: 500.0 | Test Reward: 500.0 |\n",
            "| Episode: 1950 | Train Reward: 500.0 | Test Reward: 500.0 |\n",
            "| Episode: 1975 | Train Reward: 500.0 | Test Reward: 500.0 |\n",
            "-------------- Noise: sigma = 0.1 ---------------\n",
            "\n",
            "| Episode:   0 | Train Reward:  79.0 | Test Reward:  11.0 |\n",
            "| Episode:  25 | Train Reward:  13.0 | Test Reward:  17.0 |\n",
            "| Episode:  50 | Train Reward:   9.0 | Test Reward:  10.0 |\n",
            "| Episode:  75 | Train Reward:  10.0 | Test Reward:  10.0 |\n",
            "| Episode: 100 | Train Reward:   9.0 | Test Reward:  10.0 |\n",
            "| Episode: 125 | Train Reward:   9.0 | Test Reward:   9.0 |\n",
            "| Episode: 150 | Train Reward:  11.0 | Test Reward:  12.0 |\n",
            "| Episode: 175 | Train Reward:  15.0 | Test Reward:  15.0 |\n",
            "| Episode: 200 | Train Reward: 103.0 | Test Reward: 170.0 |\n",
            "| Episode: 225 | Train Reward: 135.0 | Test Reward: 111.0 |\n",
            "| Episode: 250 | Train Reward: 129.0 | Test Reward: 147.0 |\n",
            "| Episode: 275 | Train Reward:  83.0 | Test Reward:  88.0 |\n",
            "| Episode: 300 | Train Reward:  91.0 | Test Reward: 121.0 |\n",
            "| Episode: 325 | Train Reward: 135.0 | Test Reward: 107.0 |\n",
            "| Episode: 350 | Train Reward: 115.0 | Test Reward: 177.0 |\n",
            "| Episode: 375 | Train Reward: 258.0 | Test Reward: 206.0 |\n",
            "| Episode: 400 | Train Reward: 310.0 | Test Reward: 285.0 |\n",
            "| Episode: 425 | Train Reward: 131.0 | Test Reward: 197.0 |\n",
            "| Episode: 450 | Train Reward: 101.0 | Test Reward: 104.0 |\n",
            "| Episode: 475 | Train Reward:  89.0 | Test Reward:  88.0 |\n",
            "| Episode: 500 | Train Reward:  89.0 | Test Reward:  89.0 |\n",
            "| Episode: 525 | Train Reward:  80.0 | Test Reward:  93.0 |\n",
            "| Episode: 550 | Train Reward:  82.0 | Test Reward:  76.0 |\n",
            "| Episode: 575 | Train Reward:  88.0 | Test Reward:  83.0 |\n",
            "| Episode: 600 | Train Reward:  87.0 | Test Reward:  84.0 |\n",
            "| Episode: 625 | Train Reward:  96.0 | Test Reward:  99.0 |\n",
            "| Episode: 650 | Train Reward: 118.0 | Test Reward: 107.0 |\n",
            "| Episode: 675 | Train Reward: 107.0 | Test Reward: 115.0 |\n",
            "| Episode: 700 | Train Reward: 146.0 | Test Reward: 154.0 |\n",
            "| Episode: 725 | Train Reward: 199.0 | Test Reward: 193.0 |\n",
            "| Episode: 750 | Train Reward: 500.0 | Test Reward: 500.0 |\n",
            "| Episode: 775 | Train Reward: 424.0 | Test Reward: 354.0 |\n",
            "| Episode: 800 | Train Reward: 409.0 | Test Reward: 304.0 |\n",
            "| Episode: 825 | Train Reward: 500.0 | Test Reward: 493.0 |\n",
            "Achieved convergence\n",
            "| Episode: 850 | Train Reward: 500.0 | Test Reward: 500.0 |\n",
            "| Episode: 875 | Train Reward: 500.0 | Test Reward: 500.0 |\n",
            "| Episode: 900 | Train Reward: 500.0 | Test Reward: 500.0 |\n",
            "| Episode: 925 | Train Reward: 500.0 | Test Reward: 500.0 |\n",
            "| Episode: 950 | Train Reward: 500.0 | Test Reward: 500.0 |\n",
            "| Episode: 975 | Train Reward: 500.0 | Test Reward: 500.0 |\n",
            "| Episode: 1000 | Train Reward: 500.0 | Test Reward: 500.0 |\n",
            "| Episode: 1025 | Train Reward: 500.0 | Test Reward: 500.0 |\n",
            "| Episode: 1050 | Train Reward: 500.0 | Test Reward: 500.0 |\n",
            "| Episode: 1075 | Train Reward: 500.0 | Test Reward: 500.0 |\n",
            "| Episode: 1100 | Train Reward: 500.0 | Test Reward: 500.0 |\n",
            "| Episode: 1125 | Train Reward: 500.0 | Test Reward: 500.0 |\n",
            "| Episode: 1150 | Train Reward: 500.0 | Test Reward: 500.0 |\n",
            "| Episode: 1175 | Train Reward: 500.0 | Test Reward: 500.0 |\n",
            "| Episode: 1200 | Train Reward: 500.0 | Test Reward: 500.0 |\n",
            "| Episode: 1225 | Train Reward: 500.0 | Test Reward: 500.0 |\n",
            "| Episode: 1250 | Train Reward: 500.0 | Test Reward: 500.0 |\n",
            "| Episode: 1275 | Train Reward: 500.0 | Test Reward: 500.0 |\n",
            "| Episode: 1300 | Train Reward: 500.0 | Test Reward: 500.0 |\n",
            "| Episode: 1325 | Train Reward: 500.0 | Test Reward: 500.0 |\n",
            "| Episode: 1350 | Train Reward: 500.0 | Test Reward: 500.0 |\n",
            "| Episode: 1375 | Train Reward: 500.0 | Test Reward: 500.0 |\n",
            "| Episode: 1400 | Train Reward: 500.0 | Test Reward: 500.0 |\n",
            "| Episode: 1425 | Train Reward: 500.0 | Test Reward: 500.0 |\n",
            "| Episode: 1450 | Train Reward: 500.0 | Test Reward: 500.0 |\n",
            "| Episode: 1475 | Train Reward: 500.0 | Test Reward: 500.0 |\n",
            "| Episode: 1500 | Train Reward: 500.0 | Test Reward: 500.0 |\n",
            "| Episode: 1525 | Train Reward: 500.0 | Test Reward: 500.0 |\n",
            "| Episode: 1550 | Train Reward: 500.0 | Test Reward: 500.0 |\n",
            "| Episode: 1575 | Train Reward: 500.0 | Test Reward: 500.0 |\n",
            "| Episode: 1600 | Train Reward: 500.0 | Test Reward: 500.0 |\n",
            "| Episode: 1625 | Train Reward: 500.0 | Test Reward: 500.0 |\n",
            "| Episode: 1650 | Train Reward: 500.0 | Test Reward: 500.0 |\n",
            "| Episode: 1675 | Train Reward: 500.0 | Test Reward: 500.0 |\n",
            "| Episode: 1700 | Train Reward: 500.0 | Test Reward: 500.0 |\n",
            "| Episode: 1725 | Train Reward: 500.0 | Test Reward: 500.0 |\n",
            "| Episode: 1750 | Train Reward: 500.0 | Test Reward: 500.0 |\n",
            "| Episode: 1775 | Train Reward: 500.0 | Test Reward: 500.0 |\n",
            "| Episode: 1800 | Train Reward: 500.0 | Test Reward: 500.0 |\n",
            "| Episode: 1825 | Train Reward: 500.0 | Test Reward: 500.0 |\n",
            "| Episode: 1850 | Train Reward: 500.0 | Test Reward: 500.0 |\n",
            "| Episode: 1875 | Train Reward: 500.0 | Test Reward: 500.0 |\n",
            "| Episode: 1900 | Train Reward: 500.0 | Test Reward: 500.0 |\n",
            "| Episode: 1925 | Train Reward: 500.0 | Test Reward: 500.0 |\n",
            "| Episode: 1950 | Train Reward: 500.0 | Test Reward: 500.0 |\n",
            "| Episode: 1975 | Train Reward: 500.0 | Test Reward: 500.0 |\n",
            "-------------- Noise: sigma = 0.2 ---------------\n",
            "\n",
            "| Episode:   0 | Train Reward:  12.0 | Test Reward:  21.0 |\n",
            "| Episode:  25 | Train Reward:  10.0 | Test Reward:  12.0 |\n",
            "| Episode:  50 | Train Reward:  11.0 | Test Reward:  11.0 |\n",
            "| Episode:  75 | Train Reward:  10.0 | Test Reward:  12.0 |\n",
            "| Episode: 100 | Train Reward:  13.0 | Test Reward:  15.0 |\n",
            "| Episode: 125 | Train Reward:   9.0 | Test Reward:   9.0 |\n",
            "| Episode: 150 | Train Reward:  10.0 | Test Reward:  10.0 |\n",
            "| Episode: 175 | Train Reward:  11.0 | Test Reward:   9.0 |\n",
            "| Episode: 200 | Train Reward:  11.0 | Test Reward:  11.0 |\n",
            "| Episode: 225 | Train Reward:  20.0 | Test Reward:  14.0 |\n",
            "| Episode: 250 | Train Reward: 276.0 | Test Reward: 193.0 |\n",
            "| Episode: 275 | Train Reward: 141.0 | Test Reward: 152.0 |\n",
            "| Episode: 300 | Train Reward: 150.0 | Test Reward: 196.0 |\n",
            "| Episode: 325 | Train Reward: 204.0 | Test Reward: 156.0 |\n",
            "| Episode: 350 | Train Reward: 141.0 | Test Reward: 240.0 |\n",
            "| Episode: 375 | Train Reward: 172.0 | Test Reward: 168.0 |\n",
            "| Episode: 400 | Train Reward: 157.0 | Test Reward: 136.0 |\n",
            "| Episode: 425 | Train Reward: 163.0 | Test Reward: 141.0 |\n",
            "| Episode: 450 | Train Reward: 173.0 | Test Reward: 172.0 |\n",
            "| Episode: 475 | Train Reward: 219.0 | Test Reward: 233.0 |\n",
            "| Episode: 500 | Train Reward: 270.0 | Test Reward: 329.0 |\n",
            "Achieved convergence\n",
            "| Episode: 525 | Train Reward: 500.0 | Test Reward: 500.0 |\n",
            "| Episode: 550 | Train Reward: 500.0 | Test Reward: 500.0 |\n",
            "| Episode: 575 | Train Reward: 500.0 | Test Reward: 500.0 |\n",
            "| Episode: 600 | Train Reward: 500.0 | Test Reward: 500.0 |\n",
            "| Episode: 625 | Train Reward: 500.0 | Test Reward: 500.0 |\n",
            "| Episode: 650 | Train Reward: 500.0 | Test Reward: 500.0 |\n",
            "| Episode: 675 | Train Reward: 500.0 | Test Reward: 500.0 |\n",
            "| Episode: 700 | Train Reward: 500.0 | Test Reward: 500.0 |\n",
            "| Episode: 725 | Train Reward: 500.0 | Test Reward: 500.0 |\n",
            "| Episode: 750 | Train Reward: 500.0 | Test Reward: 500.0 |\n",
            "| Episode: 775 | Train Reward: 500.0 | Test Reward: 500.0 |\n",
            "| Episode: 800 | Train Reward: 500.0 | Test Reward: 500.0 |\n",
            "| Episode: 825 | Train Reward: 500.0 | Test Reward: 500.0 |\n",
            "| Episode: 850 | Train Reward: 500.0 | Test Reward: 500.0 |\n",
            "| Episode: 875 | Train Reward: 500.0 | Test Reward: 500.0 |\n",
            "| Episode: 900 | Train Reward: 500.0 | Test Reward: 500.0 |\n",
            "| Episode: 925 | Train Reward: 500.0 | Test Reward: 500.0 |\n",
            "| Episode: 950 | Train Reward: 500.0 | Test Reward: 500.0 |\n",
            "| Episode: 975 | Train Reward: 500.0 | Test Reward: 500.0 |\n",
            "| Episode: 1000 | Train Reward: 500.0 | Test Reward: 500.0 |\n",
            "| Episode: 1025 | Train Reward: 500.0 | Test Reward: 500.0 |\n",
            "| Episode: 1050 | Train Reward: 500.0 | Test Reward: 500.0 |\n",
            "| Episode: 1075 | Train Reward: 500.0 | Test Reward: 500.0 |\n",
            "| Episode: 1100 | Train Reward: 500.0 | Test Reward: 500.0 |\n",
            "| Episode: 1125 | Train Reward: 500.0 | Test Reward: 500.0 |\n",
            "| Episode: 1150 | Train Reward: 500.0 | Test Reward: 500.0 |\n",
            "| Episode: 1175 | Train Reward: 500.0 | Test Reward: 500.0 |\n",
            "| Episode: 1200 | Train Reward: 500.0 | Test Reward: 500.0 |\n",
            "| Episode: 1225 | Train Reward: 500.0 | Test Reward: 500.0 |\n",
            "| Episode: 1250 | Train Reward: 500.0 | Test Reward: 500.0 |\n",
            "| Episode: 1275 | Train Reward: 500.0 | Test Reward: 500.0 |\n",
            "| Episode: 1300 | Train Reward: 500.0 | Test Reward: 500.0 |\n",
            "| Episode: 1325 | Train Reward: 500.0 | Test Reward: 500.0 |\n",
            "| Episode: 1350 | Train Reward: 500.0 | Test Reward: 500.0 |\n",
            "| Episode: 1375 | Train Reward: 500.0 | Test Reward: 500.0 |\n",
            "| Episode: 1400 | Train Reward: 500.0 | Test Reward: 500.0 |\n",
            "| Episode: 1425 | Train Reward: 500.0 | Test Reward: 500.0 |\n",
            "| Episode: 1450 | Train Reward: 500.0 | Test Reward: 500.0 |\n",
            "| Episode: 1475 | Train Reward: 500.0 | Test Reward: 500.0 |\n",
            "| Episode: 1500 | Train Reward: 500.0 | Test Reward: 500.0 |\n",
            "| Episode: 1525 | Train Reward: 500.0 | Test Reward: 500.0 |\n",
            "| Episode: 1550 | Train Reward: 500.0 | Test Reward: 500.0 |\n",
            "| Episode: 1575 | Train Reward: 500.0 | Test Reward: 500.0 |\n",
            "| Episode: 1600 | Train Reward: 500.0 | Test Reward: 500.0 |\n",
            "| Episode: 1625 | Train Reward: 500.0 | Test Reward: 500.0 |\n",
            "| Episode: 1650 | Train Reward: 500.0 | Test Reward: 500.0 |\n",
            "| Episode: 1675 | Train Reward: 500.0 | Test Reward: 500.0 |\n",
            "| Episode: 1700 | Train Reward: 500.0 | Test Reward: 500.0 |\n",
            "| Episode: 1725 | Train Reward: 500.0 | Test Reward: 500.0 |\n",
            "| Episode: 1750 | Train Reward: 500.0 | Test Reward: 500.0 |\n",
            "| Episode: 1775 | Train Reward: 500.0 | Test Reward: 500.0 |\n",
            "| Episode: 1800 | Train Reward: 500.0 | Test Reward: 500.0 |\n",
            "| Episode: 1825 | Train Reward: 500.0 | Test Reward: 500.0 |\n",
            "| Episode: 1850 | Train Reward: 500.0 | Test Reward: 500.0 |\n",
            "| Episode: 1875 | Train Reward: 500.0 | Test Reward: 500.0 |\n",
            "| Episode: 1900 | Train Reward: 500.0 | Test Reward: 500.0 |\n",
            "| Episode: 1925 | Train Reward: 500.0 | Test Reward: 500.0 |\n",
            "| Episode: 1950 | Train Reward: 500.0 | Test Reward: 500.0 |\n",
            "| Episode: 1975 | Train Reward: 500.0 | Test Reward: 500.0 |\n",
            "-------------- Noise: sigma = 0.4 ---------------\n",
            "\n",
            "| Episode:   0 | Train Reward:  18.0 | Test Reward:  24.0 |\n",
            "| Episode:  25 | Train Reward:   9.0 | Test Reward:  17.0 |\n",
            "| Episode:  50 | Train Reward:   9.0 | Test Reward:  10.0 |\n",
            "| Episode:  75 | Train Reward:  10.0 | Test Reward:  11.0 |\n",
            "| Episode: 100 | Train Reward:  11.0 | Test Reward:  11.0 |\n",
            "| Episode: 125 | Train Reward:  10.0 | Test Reward:   9.0 |\n",
            "| Episode: 150 | Train Reward:   9.0 | Test Reward:   9.0 |\n",
            "| Episode: 175 | Train Reward:  13.0 | Test Reward:  14.0 |\n",
            "| Episode: 200 | Train Reward: 123.0 | Test Reward:  90.0 |\n",
            "| Episode: 225 | Train Reward: 134.0 | Test Reward: 165.0 |\n",
            "| Episode: 250 | Train Reward: 124.0 | Test Reward: 115.0 |\n",
            "| Episode: 275 | Train Reward: 165.0 | Test Reward: 139.0 |\n",
            "| Episode: 300 | Train Reward: 152.0 | Test Reward: 129.0 |\n",
            "| Episode: 325 | Train Reward: 117.0 | Test Reward: 133.0 |\n",
            "| Episode: 350 | Train Reward: 131.0 | Test Reward: 117.0 |\n",
            "| Episode: 375 | Train Reward: 120.0 | Test Reward: 120.0 |\n",
            "| Episode: 400 | Train Reward: 120.0 | Test Reward: 123.0 |\n",
            "| Episode: 425 | Train Reward: 123.0 | Test Reward: 133.0 |\n"
          ]
        }
      ],
      "source": [
        "batch_size = 128\n",
        "gamma = 0.99\n",
        "lr = 1e-4\n",
        "LOG = 25\n",
        "N_TRIALS = 25\n",
        "REWARD_THRESHOLD = 475\n",
        "if torch.cuda.is_available():\n",
        "    MAX_EPISODES = 2000\n",
        "else:\n",
        "    MAX_EPISODES = 2000\n",
        "\n",
        "# DP\n",
        "noise_levels = [0, 0.1, 0.2, 0.4, 0.6] \n",
        "\n",
        "max_grad_norm = 0.1\n",
        "\n",
        "train_rewards = np.zeros((len(noise_levels), MAX_EPISODES))\n",
        "test_rewards = np.zeros((len(noise_levels), MAX_EPISODES))\n",
        "\n",
        "for i, sigma in enumerate(noise_levels):\n",
        "    train_env.reset(seed=SEED);\n",
        "    test_env.reset(seed=SEED+1);\n",
        "    \n",
        "    print(\"-------------- Noise: sigma = {} ---------------\\n\".format(sigma))\n",
        "\n",
        "    # Models\n",
        "    policy_net = DQN().to(device)\n",
        "    target_net = DQN().to(device)\n",
        "    target_net.load_state_dict(policy_net.state_dict())\n",
        "    \n",
        "    # Optimizer\n",
        "    optimizer = optim.AdamW(policy_net.parameters(), lr=lr, amsgrad=True)\n",
        "\n",
        "    # Criterion\n",
        "    criterion = nn.SmoothL1Loss()\n",
        "\n",
        "    # Memory Buffer\n",
        "    memory = ReplayMemory(10000)\n",
        "    steps_done = 0  \n",
        "    convergence = False\n",
        "    \n",
        "    for episode in range(MAX_EPISODES):\n",
        "        if not convergence:\n",
        "           # Train model\n",
        "            loss, train_reward = DP_train(memory, train_env, policy_net,\n",
        "                                          target_net, max_grad_norm, sigma,\n",
        "                                          batch_size, gamma, criterion, optimizer)\n",
        "            # Evaluate model\n",
        "            test_reward = evaluate(test_env, policy_net)\n",
        "\n",
        "            # Update rewards\n",
        "            train_rewards[i][episode] = train_reward\n",
        "            test_rewards[i][episode] = test_reward\n",
        "            \n",
        "            mean_train_rewards = np.mean(train_rewards[i][episode-N_TRIALS:episode+1])\n",
        "            mean_test_rewards = np.mean(test_rewards[i][episode-N_TRIALS:episode+1])\n",
        "            \n",
        "            convergence = (mean_test_rewards) >= 475\n",
        "            if convergence:\n",
        "                print(\"Achieved convergence\")\n",
        "        else:\n",
        "            train_rewards[i][episode] = train_rewards[i][episode-1]\n",
        "            test_rewards[i][episode] = test_rewards[i][episode-1]\n",
        "        \n",
        "        if episode % LOG == 0:\n",
        "            print(f'| Episode: {episode:3} | Train Reward: {train_reward:5.1f} | Test Reward: {test_reward:5.1f} |')"
      ]
    },
    {
      "cell_type": "code",
      "execution_count": null,
      "metadata": {
        "id": "TTeUhQnkMiRj"
      },
      "outputs": [],
      "source": [
        "fig = plt.figure(figsize=(12,8))\n",
        "\n",
        "for i, sigma in enumerate(noise_levels):\n",
        "    plt.plot(test_rewards[i], label='sigma = {}'.format(sigma))\n",
        "\n",
        "plt.xlabel('Number of episodes trained')\n",
        "plt.ylabel('Reward')\n",
        "\n",
        "plt.legend()\n",
        "plt.legend(loc='lower right')\n",
        "plt.grid()\n",
        "plt.show()\n",
        "plt.savefig('DP_DQN.png')"
      ]
    },
    {
      "cell_type": "code",
      "execution_count": null,
      "metadata": {
        "id": "XjRKJ5ORKAFD"
      },
      "outputs": [],
      "source": []
    }
  ],
  "metadata": {
    "accelerator": "GPU",
    "colab": {
      "machine_shape": "hm",
      "provenance": []
    },
    "gpuClass": "standard",
    "kernelspec": {
      "display_name": "Python 3",
      "name": "python3"
    }
  },
  "nbformat": 4,
  "nbformat_minor": 0
}